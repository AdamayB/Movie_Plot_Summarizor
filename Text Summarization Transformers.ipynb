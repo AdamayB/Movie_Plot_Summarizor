{
 "cells": [
  {
   "cell_type": "markdown",
   "id": "9c17e53f",
   "metadata": {},
   "source": [
    "# Text Summarization using Transformers\n",
    "Going throught the Transformers documentation, I came across many different things...I am trying those out. First one being the text summarization. Let's evaluate the results.\n",
    "\n",
    "Must read:\n",
    "https://huggingface.co/docs/transformers/task_summary\n",
    "\n",
    "What are Transformers?\n",
    "https://www.youtube.com/watch?v=_UVfwBqcnbM\n",
    "https://www.youtube.com/watch?v=SZorAJ4I-sA\n",
    "\n"
   ]
  },
  {
   "cell_type": "code",
   "execution_count": 2,
   "id": "808e992b",
   "metadata": {},
   "outputs": [],
   "source": [
    "from transformers import pipeline"
   ]
  },
  {
   "cell_type": "code",
   "execution_count": 3,
   "id": "5e74fb49",
   "metadata": {},
   "outputs": [
    {
     "name": "stderr",
     "output_type": "stream",
     "text": [
      "No model was supplied, defaulted to sshleifer/distilbart-cnn-12-6 and revision a4f8f3e (https://huggingface.co/sshleifer/distilbart-cnn-12-6).\n",
      "Using a pipeline without specifying a model name and revision in production is not recommended.\n"
     ]
    }
   ],
   "source": [
    "summerizer=pipeline(\"summarization\")"
   ]
  },
  {
   "cell_type": "code",
   "execution_count": 55,
   "id": "202f6bac",
   "metadata": {},
   "outputs": [],
   "source": [
    "import wikipedia"
   ]
  },
  {
   "cell_type": "code",
   "execution_count": 82,
   "id": "d2079da1",
   "metadata": {},
   "outputs": [
    {
     "name": "stdout",
     "output_type": "stream",
     "text": [
      "Enter Movie name with year. Eg- Iron Man (2008 film):transformers (2007 film)\n"
     ]
    }
   ],
   "source": [
    "MovieName=input(\"Enter Movie name with year. Eg- Iron Man (2008 film):\")"
   ]
  },
  {
   "cell_type": "code",
   "execution_count": 83,
   "id": "732433a5",
   "metadata": {},
   "outputs": [],
   "source": [
    "try:\n",
    "    ARTICLE = wikipedia.WikipediaPage(MovieName).section('Plot')\n",
    "except:\n",
    "        print(\"Page Doesn't Exist. Check Spelling or write a more specific name.\\nFor example, instead of Iron Man write Iron Man (2008 film)\") "
   ]
  },
  {
   "cell_type": "code",
   "execution_count": 85,
   "id": "d65db5bd",
   "metadata": {},
   "outputs": [],
   "source": [
    "x=int(0.06*len(ARTICLE))\n",
    "y=int(0.2*len(ARTICLE))\n",
    "l=summerizer(ARTICLE)#, max_length=y, min_length=x) #do_sample=False)"
   ]
  },
  {
   "cell_type": "code",
   "execution_count": 86,
   "id": "d5a1f734",
   "metadata": {},
   "outputs": [
    {
     "name": "stdout",
     "output_type": "stream",
     "text": [
      "4126\n"
     ]
    }
   ],
   "source": [
    "print(len(ARTICLE))\n"
   ]
  },
  {
   "cell_type": "code",
   "execution_count": 88,
   "id": "1fd24031",
   "metadata": {},
   "outputs": [
    {
     "name": "stdout",
     "output_type": "stream",
     "text": [
      " The planet Cybertron was consumed by a civil war between the two Transformer factions, the Autobots led by Optimus Prime and the Decepticons led by Megatron . Megatron found the AllSpark on Earth, but crash-landed in the Arctic Circle and was frozen in the ice . The Autobots want to use it to end the war and end the battle . The Decepticon have landed on Earth and assumed the disguise of Earth vehicles plus have setup a conspiracy .\n"
     ]
    }
   ],
   "source": [
    "print(l[0]['summary_text'])"
   ]
  },
  {
   "cell_type": "code",
   "execution_count": null,
   "id": "12e815b6",
   "metadata": {},
   "outputs": [],
   "source": []
  }
 ],
 "metadata": {
  "kernelspec": {
   "display_name": "Python 3 (ipykernel)",
   "language": "python",
   "name": "python3"
  },
  "language_info": {
   "codemirror_mode": {
    "name": "ipython",
    "version": 3
   },
   "file_extension": ".py",
   "mimetype": "text/x-python",
   "name": "python",
   "nbconvert_exporter": "python",
   "pygments_lexer": "ipython3",
   "version": "3.9.12"
  }
 },
 "nbformat": 4,
 "nbformat_minor": 5
}
